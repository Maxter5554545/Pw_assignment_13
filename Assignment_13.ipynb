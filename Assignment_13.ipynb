{
 "cells": [
  {
   "cell_type": "code",
   "execution_count": 19,
   "id": "a7d1e37c-5e69-432f-8602-d3debd330ae9",
   "metadata": {},
   "outputs": [],
   "source": [
    "import logging"
   ]
  },
  {
   "cell_type": "code",
   "execution_count": 3,
   "id": "b648beed-5bcf-4fa5-818f-ec347a962af4",
   "metadata": {},
   "outputs": [],
   "source": [
    "logging.basicConfig(filename='assign_13_pw.log', level = logging.DEBUG)"
   ]
  },
  {
   "cell_type": "code",
   "execution_count": 20,
   "id": "811372cf-294e-4e3b-a616-e00626f53372",
   "metadata": {},
   "outputs": [],
   "source": [
    "# Q1. What is an Exeption in python? Write the differene between Exeptions and syntax errors.\n",
    "logging.info('Exception is a concept in python in which if the code block carries some bug then the except is executed  to not to show errors.')\n",
    "logging.info(\"Difference between Exceptions  & Syntax error is:\\n::In exception we can execute our custom error handling code. if the block of code carries some kind of bugs./nSyntax errors occur when python interpreter detects any spelling mistakes or some missing syntax such as ';', ':',  \")"
   ]
  },
  {
   "cell_type": "code",
   "execution_count": 21,
   "id": "0f34645d-bf9a-42e7-9a6d-76d614a88c5b",
   "metadata": {},
   "outputs": [],
   "source": [
    " # Q2. What happens when an exeption is not handled? Explin with an exmple?  \n",
    "logging.info(\"When any exeption is not handled it continues the programm until it detects any error.  \")\n",
    "\n",
    "#example\n",
    "try:\n",
    "    res = (5/0)\n",
    "except ZeroDivisionError as d:\n",
    "    err = ('The given number is smaller than 9', d)\n",
    "    logging.error(err)"
   ]
  },
  {
   "cell_type": "code",
   "execution_count": 22,
   "id": "aa60e34c-3d0a-4cc1-855f-6403eedaea2b",
   "metadata": {},
   "outputs": [],
   "source": [
    "# Q3. Which Python statements are used to catch and handle exceptions? Explain with an example.\n",
    "import logging\n",
    "\n",
    "logging.info(\"'try' and 'except' are used to catch and handle exceptions.\")\n",
    "\n",
    "# Example\n",
    "try:\n",
    "    result = 20 + \"I'm from India\"  # This will raise a TypeError\n",
    "except TypeError as e:\n",
    "    err = (\"Strings and numbers cannot be concatenated.\", e)\n",
    "    logging.error(err)\n"
   ]
  },
  {
   "cell_type": "code",
   "execution_count": 23,
   "id": "da8e9b65-a2c2-4e9e-9896-4cecf37fece7",
   "metadata": {},
   "outputs": [],
   "source": [
    "# Q4. Explain with an example:#\n",
    "# 1.try \n",
    "# 2.else \n",
    "# 3.finally  \n",
    "# 4.raise\n",
    "\n",
    "logging.info('''Try: try keyword is used whenever we pass any programm, if the programm works correctly it do not handles any exceptions.\n",
    "else: Else keyword is used when the programms do not handles any exceptions.\n",
    "finally: finally keyword executes it's messeges whether the programm handles any exceptions or not\n",
    "raise: rasie is usually used for creating custom excetions.''')\n",
    "\n",
    "#Example\n",
    "try:\n",
    "    result = 10/2\n",
    "except ZeroDivisionError as z:\n",
    "    logging.error(z)\n",
    "else:\n",
    "    logging.info(\"Division Successful\")\n",
    "finally:\n",
    "    logging.info(\"Thanks for dividing\")\n",
    "    \n",
    "try:\n",
    "    raise ValueError(\"This is custom Exception\")\n",
    "except ValueError as v:\n",
    "    logging.error(f\"We had an exception: {v}\")"
   ]
  },
  {
   "cell_type": "code",
   "execution_count": 24,
   "id": "8d77569d-088c-43d9-8509-5256357c5d03",
   "metadata": {},
   "outputs": [],
   "source": [
    "# Q5. What are Custom Exceptions in python? Why do we need Custom Exceptions? Explain with an example\n",
    "logging.info(\"Custom Exceptions is a concept in python in which we create our custom errors messeges.We need custom messeges because some of the certain error messeges are not in-built by python. \")\n",
    "\n",
    "#example\n",
    "class val(Exception):\n",
    "    def __init__(self, msg):\n",
    "        self.msg = msg\n",
    "        \n",
    "def ownEx(x, y):\n",
    "    if y == 0:\n",
    "        raise val(\"Error: because in p/q q is != 0 \")\n",
    "    else:\n",
    "        return x/y\n",
    "try:\n",
    "    f = ownEx(3, 0)\n",
    "    logging.info(f)\n",
    "except val as e:\n",
    "    logging.error(e)"
   ]
  },
  {
   "cell_type": "code",
   "execution_count": 26,
   "id": "1e876b5b-b6c7-4f68-9e96-96add8c7b4f5",
   "metadata": {},
   "outputs": [
    {
     "name": "stdin",
     "output_type": "stream",
     "text": [
      "Enter the name here:  Ravan\n"
     ]
    }
   ],
   "source": [
    "# Q6. Create a custom exception clss. Use this calss to handle an exception.\n",
    "class valer(Exception):\n",
    "    def __init__(self, mess):\n",
    "        self.mess = mess\n",
    "    \n",
    "def name5(x):\n",
    "    if len(x)>5:\n",
    "        raise valer(\"You're name character must be smaller than 5.\")\n",
    "    else:\n",
    "        return \"The name is correct\"\n",
    "\n",
    "try:\n",
    "    a = input(\"Enter the name here: \")\n",
    "    name5(a)\n",
    "    logging.info(a)\n",
    "except valer as va:\n",
    "    logging.error(va)"
   ]
  },
  {
   "cell_type": "code",
   "execution_count": null,
   "id": "0fe43379-6121-44fe-baae-e9862c229c56",
   "metadata": {},
   "outputs": [],
   "source": []
  }
 ],
 "metadata": {
  "kernelspec": {
   "display_name": "Python 3 (ipykernel)",
   "language": "python",
   "name": "python3"
  },
  "language_info": {
   "codemirror_mode": {
    "name": "ipython",
    "version": 3
   },
   "file_extension": ".py",
   "mimetype": "text/x-python",
   "name": "python",
   "nbconvert_exporter": "python",
   "pygments_lexer": "ipython3",
   "version": "3.10.8"
  }
 },
 "nbformat": 4,
 "nbformat_minor": 5
}
